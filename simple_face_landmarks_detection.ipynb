{
 "cells": [
  {
   "cell_type": "code",
   "execution_count": 3,
   "metadata": {},
   "outputs": [],
   "source": [
    "import cv2\n",
    "import mediapipe as mp\n",
    "import time\n",
    "\n",
    "cap = cv2.VideoCapture(0)\n",
    "\n",
    "mpdraw = mp.solutions.drawing_utils\n",
    "mpmeshes = mp.solutions.face_mesh\n",
    "facemesh = mpmeshes.FaceMesh(max_num_faces=2) \n",
    "drawspec = mpdraw.DrawingSpec(thickness=1, circle_radius=2)\n",
    "\n",
    "previous_time = 0\n",
    "current_time = 0\n",
    "\n",
    "while True:\n",
    "    \n",
    "    check , frame = cap.read()\n",
    "    img = cv2.cvtColor(frame, cv2.COLOR_BGR2RGB)\n",
    "    results = facemesh.process(img)\n",
    "    \n",
    "    if results.multi_face_landmarks:\n",
    "        for facelms in results.multi_face_landmarks:\n",
    "            mpdraw.draw_landmarks(frame, facelms, mpmeshes.FACE_CONNECTIONS, drawspec, drawspec)\n",
    "            \n",
    "            for idx,lm in enumerate(facelms.landmark):    \n",
    "                h,w,c = frame.shape\n",
    "                cx,cy = int(lm.x*w), int(lm.y*h)\n",
    "                \n",
    "    current_time = time.time()\n",
    "    fps = 1 / (current_time - previous_time)\n",
    "    previous_time = current_time\n",
    "    \n",
    "    cv2.putText(frame, \"fps: \"+str(int(fps)), (10,70), cv2.FONT_HERSHEY_PLAIN, 2, (255,0,255), 2)\n",
    "    cv2.imshow('Face Landmarks Detection', frame)\n",
    "        \n",
    "    if cv2.waitKey(1) & 0xFF == ord('q'):\n",
    "        break\n",
    "        \n",
    "cap.release()\n",
    "cv2.destroyAllWindows()"
   ]
  },
  {
   "cell_type": "markdown",
   "metadata": {},
   "source": [
    "## Through Module"
   ]
  },
  {
   "cell_type": "code",
   "execution_count": 1,
   "metadata": {},
   "outputs": [],
   "source": [
    "import cv2\n",
    "import mediapipe as mp\n",
    "import time\n",
    "import facemeshdetect as fmt\n",
    "\n",
    "cap = cv2.VideoCapture(0)\n",
    "facemeshdetector = fmt.faceMeshDetection()\n",
    "\n",
    "previous_time = 0\n",
    "current_time = 0\n",
    "\n",
    "while True:\n",
    "    \n",
    "    check , frame = cap.read()\n",
    "    \n",
    "    current_time = time.time()\n",
    "    fps = 1 / (current_time - previous_time)\n",
    "    previous_time = current_time\n",
    "    \n",
    "    frame, faces = facemeshdetector.findfacemeshes(frame)\n",
    "    \n",
    "    cv2.putText(frame, \"fps: \"+str(int(fps)), (10,70), cv2.FONT_HERSHEY_PLAIN, 2, (255,0,255), 2)\n",
    "    cv2.imshow('Face Landmarks Detection', frame)\n",
    "        \n",
    "    if cv2.waitKey(1) & 0xFF == ord('q'):\n",
    "        break\n",
    "        \n",
    "cap.release()\n",
    "cv2.destroyAllWindows()"
   ]
  },
  {
   "cell_type": "code",
   "execution_count": null,
   "metadata": {},
   "outputs": [],
   "source": []
  }
 ],
 "metadata": {
  "kernelspec": {
   "display_name": "Python 3",
   "language": "python",
   "name": "python3"
  },
  "language_info": {
   "codemirror_mode": {
    "name": "ipython",
    "version": 3
   },
   "file_extension": ".py",
   "mimetype": "text/x-python",
   "name": "python",
   "nbconvert_exporter": "python",
   "pygments_lexer": "ipython3",
   "version": "3.7.6"
  }
 },
 "nbformat": 4,
 "nbformat_minor": 4
}
